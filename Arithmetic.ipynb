{
 "cells": [
  {
   "cell_type": "markdown",
   "id": "e3d557ef",
   "metadata": {},
   "source": [
    "# Arithmetic\n",
    "\n",
    "## Exercises\n",
    "\n",
    "### Exercise 1 \n",
    "\n",
    "> What are the absolute values of integers -123, 27 and 0?\n",
    "\n",
    "123, 27 and 0.\n"
   ]
  },
  {
   "cell_type": "code",
   "execution_count": 3,
   "id": "ac060969",
   "metadata": {},
   "outputs": [
    {
     "data": {
      "text/plain": [
       "Non negative integer semiring"
      ]
     },
     "execution_count": 3,
     "metadata": {},
     "output_type": "execute_result"
    }
   ],
   "source": [
    "NN"
   ]
  }
 ],
 "metadata": {
  "kernelspec": {
   "display_name": "SageMath 10.2",
   "language": "sage",
   "name": "sagemath"
  },
  "language_info": {
   "codemirror_mode": {
    "name": "ipython",
    "version": 3
   },
   "file_extension": ".py",
   "mimetype": "text/x-python",
   "name": "python",
   "nbconvert_exporter": "python",
   "pygments_lexer": "ipython3",
   "version": "3.9.19"
  }
 },
 "nbformat": 4,
 "nbformat_minor": 5
}
