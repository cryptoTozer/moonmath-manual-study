{
 "cells": [
  {
   "cell_type": "markdown",
   "id": "7ce2a18e",
   "metadata": {},
   "source": [
    "# Arithmetic\n",
    "\n",
    "## Exercises\n",
    "\n",
    "### Exercise 1 \n",
    "\n",
    "> What are the absolute values of integers -123, 27 and 0?\n",
    "\n",
    "123, 27 and 0.\n",
    "\n",
    "### Exercise 2\n",
    "\n",
    "> Compute the factorization of 30030 and double-check your results using Sage.\n"
   ]
  },
  {
   "cell_type": "code",
   "execution_count": 1,
   "id": "9d392ac0",
   "metadata": {},
   "outputs": [
    {
     "data": {
      "text/plain": [
       "2 * 3 * 5 * 7 * 11 * 13"
      ]
     },
     "execution_count": 1,
     "metadata": {},
     "output_type": "execute_result"
    }
   ],
   "source": [
    "factor(30030)"
   ]
  },
  {
   "cell_type": "markdown",
   "id": "c98f5e7e",
   "metadata": {},
   "source": [
    "### Exercise 3\n",
    "\n",
    "> Consider the following equation: \n",
    "> 4·x+21 = 5\n",
    "> Compute the set of all solutions for x under the following alternative assumptions:\n",
    "> 1. The equation is defined over the set of natural numbers.\n",
    "> 2. The equation is defined over the set of integers.\n",
    "\n",
    "#### Exercise 3.1"
   ]
  },
  {
   "cell_type": "markdown",
   "id": "2755584e",
   "metadata": {},
   "source": [
    "Over natural numbers: \n",
    "\n",
    "\\begin{align*}\n",
    "\\mathbb{N} := \\{1,2,3,\\ldots\\} \n",
    "\\end{align*}\n",
    "\n",
    "\\begin{align}\n",
    "4 + x + 21 &= 5 \\\\\n",
    "x + 21 &= 1 \\\\\n",
    "x &= 1-21 \\\\\n",
    "\\end{align}\n",
    "\n",
    "There is no solution."
   ]
  },
  {
   "cell_type": "code",
   "execution_count": 31,
   "id": "f3ec8ed9",
   "metadata": {},
   "outputs": [
    {
     "name": "stdout",
     "output_type": "stream",
     "text": [
      "No solution for x belongs to the domain of non-negative integers.\n"
     ]
    }
   ],
   "source": [
    "x = var('x')\n",
    "equation = NN(4) + x + NN(21) == NN(5)\n",
    "solution = solve(equation, x, domain=NN)\n",
    "if any(sol in NN for sol in solution):\n",
    "    print(\"At least one solution for x belongs to the domain of non-negative integers.\")\n",
    "else:\n",
    "    print(\"No solution for x belongs to the domain of non-negative integers.\")"
   ]
  },
  {
   "cell_type": "markdown",
   "id": "06a0f68d",
   "metadata": {},
   "source": [
    "#### Exercise 3.2"
   ]
  },
  {
   "cell_type": "markdown",
   "id": "404d65d6",
   "metadata": {},
   "source": [
    "Over integers: \n",
    "    \n",
    "\\begin{equation}\n",
    "\\mathbb{Z} := \\{\\ldots, -3,-2,-1,0,1,2,3,\\ldots\\}\n",
    "\\end{equation}\n",
    "\n",
    "\\begin{align}\n",
    "4 + x + 21 &= 5 \\\\\n",
    "x + 21 &= 1 \\\\\n",
    "x &= 1-21 \\\\\n",
    "x &= -20 \\\\\n",
    "\\end{align}\n",
    "\n",
    "There is no solution."
   ]
  },
  {
   "cell_type": "code",
   "execution_count": null,
   "id": "4da44b41",
   "metadata": {},
   "outputs": [],
   "source": []
  }
 ],
 "metadata": {
  "kernelspec": {
   "display_name": "SageMath 10.2",
   "language": "sage",
   "name": "sagemath"
  },
  "language_info": {
   "codemirror_mode": {
    "name": "ipython",
    "version": 3
   },
   "file_extension": ".py",
   "mimetype": "text/x-python",
   "name": "python",
   "nbconvert_exporter": "python",
   "pygments_lexer": "ipython3",
   "version": "3.9.19"
  }
 },
 "nbformat": 4,
 "nbformat_minor": 5
}
