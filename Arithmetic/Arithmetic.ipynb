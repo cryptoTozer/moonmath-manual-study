{
 "cells": [
  {
   "cell_type": "markdown",
   "id": "5d33bbaf",
   "metadata": {},
   "source": [
    "# Arithmetic\n",
    "\n",
    "## Exercises\n",
    "\n",
    "### Exercise 1 \n",
    "\n",
    "> What are the absolute values of integers -123, 27 and 0?\n",
    "\n",
    "123, 27 and 0.\n",
    "\n",
    "### Exercise 2\n",
    "\n",
    "> Compute the factorization of 30030 and double-check your results using Sage.\n"
   ]
  },
  {
   "cell_type": "code",
   "execution_count": 61,
   "id": "9aed9f19",
   "metadata": {},
   "outputs": [
    {
     "data": {
      "text/plain": [
       "2 * 3 * 5 * 7 * 11 * 13"
      ]
     },
     "execution_count": 61,
     "metadata": {},
     "output_type": "execute_result"
    }
   ],
   "source": [
    "factor(30030)"
   ]
  },
  {
   "cell_type": "markdown",
   "id": "913c283f",
   "metadata": {},
   "source": [
    "### Exercise 3\n",
    "\n",
    "> Consider the following equation: \n",
    "> 4·x+21 = 5\n",
    "> Compute the set of all solutions for x under the following alternative assumptions:\n",
    "> 1. The equation is defined over the set of natural numbers.\n",
    "> 2. The equation is defined over the set of integers.\n",
    "\n",
    "#### Exercise 3.1"
   ]
  },
  {
   "cell_type": "markdown",
   "id": "cc01df40",
   "metadata": {},
   "source": [
    "Over natural numbers: \n",
    "\n",
    "\\begin{align*}\n",
    "\\mathbb{N} := \\{1,2,3,\\ldots\\} \n",
    "\\end{align*}\n",
    "\n",
    "Solution:\n",
    "\n",
    "\\begin{align}\n",
    "4 + x + 21 &= 5 \\\\\n",
    "x + 21 &= 1 \\\\\n",
    "x &= 1-21 \\\\\n",
    "\\end{align}\n",
    "\n",
    "There is no solution."
   ]
  },
  {
   "cell_type": "code",
   "execution_count": 62,
   "id": "a0e59474",
   "metadata": {
    "scrolled": true
   },
   "outputs": [
    {
     "name": "stdout",
     "output_type": "stream",
     "text": [
      "No solution for x belongs to the domain of non-negative integers.\n"
     ]
    }
   ],
   "source": [
    "x = var('x')\n",
    "equation = NN(4) + x + NN(21) == NN(5)\n",
    "solution = solve(equation, x, domain=NN)\n",
    "if any(sol in NN for sol in solution):\n",
    "    print(\"At least one solution for x belongs to the domain of non-negative integers.\")\n",
    "else:\n",
    "    print(\"No solution for x belongs to the domain of non-negative integers.\")"
   ]
  },
  {
   "cell_type": "markdown",
   "id": "7548ee00",
   "metadata": {},
   "source": [
    "#### Exercise 3.2"
   ]
  },
  {
   "cell_type": "markdown",
   "id": "2a639248",
   "metadata": {},
   "source": [
    "Over integers: \n",
    "    \n",
    "\\begin{equation}\n",
    "\\mathbb{Z} := \\{\\ldots, -3,-2,-1,0,1,2,3,\\ldots\\}\n",
    "\\end{equation}\n",
    "\n",
    "Solution:\n",
    "\n",
    "\\begin{align}\n",
    "4 + x + 21 &= 5 \\\\\n",
    "x + 21 &= 1 \\\\\n",
    "x &= 1-21 \\\\\n",
    "x &= -20 \\\\\n",
    "\\end{align}"
   ]
  },
  {
   "cell_type": "markdown",
   "id": "b8ed53a6",
   "metadata": {},
   "source": [
    "### Exercise 4\n",
    "\n",
    "> Consider the following equation:\n",
    "\\begin{align}\n",
    "2x^3 - x^2 - 2x &= -1 \\\\ \n",
    "\\end{align}\n",
    "> Compute the set of all solutions x under the following assumptions:\n",
    "> 1. The equation is defined over the set of natural numbers. \n",
    "> 2. The equation is defined over the set of integers.\n",
    "> 3. The equation is defined over the set of rational numbers."
   ]
  },
  {
   "cell_type": "markdown",
   "id": "0b66d259",
   "metadata": {},
   "source": [
    "#### Exercise 4.1\n",
    "\n",
    "Answer: 1"
   ]
  },
  {
   "cell_type": "markdown",
   "id": "d1523ea0",
   "metadata": {},
   "source": [
    "#### Exercise 4.2\n",
    "\n",
    "Answer: 1,-1"
   ]
  },
  {
   "cell_type": "markdown",
   "id": "8f6a4e8b",
   "metadata": {},
   "source": [
    "#### Exercise 4.3\n",
    "\n",
    "Answer: 1,-1,0.5"
   ]
  },
  {
   "cell_type": "code",
   "execution_count": 63,
   "id": "cde285ef",
   "metadata": {},
   "outputs": [
    {
     "name": "stdout",
     "output_type": "stream",
     "text": [
      "All solutions: x == (1/2), x == -1, x == 1\n",
      "Natural number solutions: [x == 1]\n",
      "Integer solutions: [x == -1, x == 1]\n"
     ]
    }
   ],
   "source": [
    "x = var('x')\n",
    "\n",
    "equation = 2*x^3 - x^2 - 2*x == -1\n",
    "\n",
    "solutions = solve(equation, x)\n",
    "\n",
    "print(\"All solutions:\", ', '.join(str(solution) for solution in solutions))\n",
    "\n",
    "nn_solutions = []\n",
    "for solution in solutions:\n",
    "    number = solution.rhs()\n",
    "    if number.is_integer() and number > 0:\n",
    "        nn_solutions.append(solution)\n",
    "print(f\"Natural number solutions: {nn_solutions}\")\n",
    "\n",
    "z_solutions = []\n",
    "for solution in solutions:\n",
    "    number = solution.rhs()\n",
    "    if number.is_integer():\n",
    "        z_solutions.append(solution)\n",
    "print(f\"Integer solutions: {z_solutions}\")\n",
    "\n",
    "# q_solutions = []\n",
    "# for solution in solutions:\n",
    "#     number = solution.rhs()\n",
    "#     if number.is_rational():\n",
    "#         q_solutions.append(solution)\n",
    "# print(f\"Rational number solutions: {q_solutions}\")"
   ]
  },
  {
   "cell_type": "markdown",
   "id": "7637d679",
   "metadata": {},
   "source": [
    "### Exercise 5\n",
    "\n",
    "Find an $m\\in\\Z$ and an $r\\in\\N$ with $0\\leq r< |b|$ such that $a= m\\cdot b +r$ holds for the following pairs:\n",
    "\n",
    "\\begin{align}\n",
    "(a, b) &= (27, 5) \\\\\n",
    "(a, b) &= (27, -5) \\\\\n",
    "(a, b) &= (127, 0) \\\\\n",
    "(a, b) &= (-1687, 11) \\\\\n",
    "(a, b) &= (0, 7) \\\\\n",
    "\\end{align}\n",
    "\n",
    "In which cases are your solutions unique?"
   ]
  },
  {
   "cell_type": "markdown",
   "id": "59fa0368",
   "metadata": {},
   "source": [
    "###### 1. (a,b) = (27,5)\n",
    "\n",
    "27 = 5*5+2\n",
    "\n",
    "(m,r) = (5,2)\n",
    "\n",
    "###### 2. (a,b) = (27,5)\n",
    "\n",
    "27 = -5*-5+2\n",
    "\n",
    "(m,r) = (-5,2)\n",
    "\n",
    "###### 3. (a,b) = (127,0)\n",
    "\n",
    "127 = 0m+r\n",
    "\n",
    "No solution because 0<r<127\n",
    "\n",
    "r can at most be 126.\n",
    "\n",
    "###### 4. (a,b) = (-1687,11)\n",
    "\n",
    "-1687 = 11m+r"
   ]
  },
  {
   "cell_type": "code",
   "execution_count": 64,
   "id": "749a23ee",
   "metadata": {},
   "outputs": [
    {
     "name": "stdout",
     "output_type": "stream",
     "text": [
      "positive\n",
      "1687\n",
      "negative\n",
      "-1687\n",
      "this there a better way?\n",
      "answer: (154,7)\n"
     ]
    }
   ],
   "source": [
    "\"\"\"\n",
    "\n",
    "     0153\n",
    "   -------\n",
    "11/  1687\n",
    "     11\n",
    "     --\n",
    "     058\n",
    "      55\n",
    "      --\n",
    "      037\n",
    "       33\n",
    "       --\n",
    "       04\n",
    "           \n",
    "\"\"\"\n",
    "print(\"positive\")\n",
    "print((11*153)+4)\n",
    "print(\"negative\")\n",
    "print((11*-(153+1)+(11-4)))"
   ]
  },
  {
   "cell_type": "markdown",
   "id": "dcbacc3c",
   "metadata": {},
   "source": [
    "###### 5. (a, b) &= (0, 7)\n",
    "\n",
    "0 = 7m + r\n",
    "(m,r) = (0,0)"
   ]
  },
  {
   "cell_type": "markdown",
   "id": "6b9c97f5",
   "metadata": {},
   "source": [
    "### Exercise 6\n",
    "\n",
    "> Using the programming language of your choice, write an algorithm that computes integer long division and handles all edge cases properly.\n"
   ]
  },
  {
   "cell_type": "markdown",
   "id": "a972694e",
   "metadata": {},
   "source": [
    "```rust\n",
    "\n",
    "pub fn long_division(dividend: i64, divisor: i64) -> (i64, i64) {\n",
    "    let dividend_abs = dividend.abs() as usize;\n",
    "    let divisor_abs = divisor.abs() as usize;\n",
    "\n",
    "    let dividend_string = dividend_abs.to_string();\n",
    "    let mut digits = Vec::new();\n",
    "    for c in dividend_string.chars() {\n",
    "        let digit = c.to_digit(10).unwrap();\n",
    "        digits.push(digit);\n",
    "    }\n",
    "    println!(\"DIGITS: {:?}\", digits);\n",
    "\n",
    "    let mut quotient = 0;\n",
    "    let mut num = 0;\n",
    "\n",
    "    for i in 0..digits.len() {\n",
    "        num = num * 10 + digits[i] as usize;\n",
    "\n",
    "        if num >= divisor_abs {\n",
    "            let mut count = 0;\n",
    "            while num >= divisor_abs * (count + 1) {\n",
    "                count += 1;\n",
    "            }\n",
    "\n",
    "            quotient = quotient * 10 + count;\n",
    "            num -= divisor_abs * count;\n",
    "        } else if quotient > 0 {\n",
    "            quotient *= 10;\n",
    "        }\n",
    "    }\n",
    "\n",
    "    let remainder = num as i64;\n",
    "\n",
    "    let sign = (dividend < 0) ^ (divisor < 0);\n",
    "    let quotient_signed = (quotient as i64) * if sign { -1 } else { 1 };\n",
    "    let quotient_adjusted = if dividend < 0 {\n",
    "        quotient_signed - 1\n",
    "    } else {\n",
    "        quotient_signed\n",
    "    };\n",
    "    let remainder_adjusted = if dividend < 0 {\n",
    "        divisor.abs() - remainder\n",
    "    } else {\n",
    "        remainder\n",
    "    };\n",
    "\n",
    "    (quotient_adjusted, remainder_adjusted)\n",
    "}\n",
    "\n",
    "#[cfg(test)]\n",
    "mod tests {\n",
    "    use super::*;\n",
    "\n",
    "    #[test]\n",
    "    fn it_works() {\n",
    "        let (quotient, remainder) = long_division(27, 5);\n",
    "        assert_eq!((quotient, remainder), (5, 2));\n",
    "\n",
    "        let (quotient, remainder) = long_division(27, -5);\n",
    "        assert_eq!((quotient, remainder), (-5, 2));\n",
    "\n",
    "        let (quotient, remainder) = long_division(-27, 5);\n",
    "        assert_eq!((quotient, remainder), (-6, 3));\n",
    "\n",
    "        let (quotient, remainder) = long_division(-1687, 11);\n",
    "        assert_eq!((quotient, remainder), (-154, 7));\n",
    "    }\n",
    "}\n",
    "```"
   ]
  },
  {
   "cell_type": "markdown",
   "id": "bc8e78c4",
   "metadata": {},
   "source": [
    "### Exercise 7\n",
    "\n",
    "> Write an algorithm that computes the binary representation of any non-negative integer.\n",
    "\n",
    "\\begin{equation}\n",
    "n = \\sum_{j=0}^{k-1} b_j\\cdot 2^j\n",
    "\\end{equation}"
   ]
  },
  {
   "cell_type": "markdown",
   "id": "7f36defa",
   "metadata": {},
   "source": [
    "```rust\n",
    "pub fn  binary_representation(mut number: usize) -> String {\n",
    "    if number == 0 {\n",
    "        return String::from(\"0\");\n",
    "    }\n",
    "\n",
    "    let mut result = String::new();\n",
    "\n",
    "    while number > 0 {\n",
    "        let bit = (number & 1) as u8; // Get the least significant bit\n",
    "        result.insert(0, if bit == 1 { '1' } else { '0' });\n",
    "        number >>= 1; // Shift the number right by 1 to move to the next bit\n",
    "    }\n",
    "\n",
    "    result\n",
    "}\n",
    "\n",
    "#[cfg(test)]\n",
    "mod tests {\n",
    "    use super::*;\n",
    "\n",
    "    #[test]\n",
    "    fn it_works() {\n",
    "        let result = binary_representation(7);\n",
    "        assert_eq!(result, \"111\");\n",
    "\n",
    "        let result = binary_representation(1);\n",
    "        assert_eq!(result, \"1\");\n",
    "\n",
    "        let result = binary_representation(8);\n",
    "        assert_eq!(result, \"1000\");\n",
    "\n",
    "        let result = binary_representation(15);\n",
    "        assert_eq!(result, \"1111\");\n",
    "    }\n",
    "}\n",
    "```"
   ]
  },
  {
   "cell_type": "markdown",
   "id": "bc310b8a",
   "metadata": {},
   "source": [
    "### Exercise 8\n",
    "\n",
    "> Extended Euclidean Algorithm\n",
    "\n",
    "> Find integers $s,t\\in\\Z$ such that $gcd(a,b)= s\\cdot a +t\\cdot b$ holds for the following pairs:\n",
    ">\n",
    "> $(a,b) = (45,10)$\n",
    ">\n",
    "> $(a,b)=(13,11)$\n",
    ">\n",
    "> $(a,b)=(13,12)$"
   ]
  },
  {
   "cell_type": "code",
   "execution_count": 65,
   "id": "74197f55",
   "metadata": {},
   "outputs": [
    {
     "data": {
      "text/plain": [
       "'\\n(a,b) = (13,12)\\n\\nk | Rk  Sk  Tk  Qk\\n-------------------\\n0 | 13  1   0\\n1 | 12  0   1\\n2 |\\n3 |\\n4 |\\n5 | \\n\\ngcd(a,b) = sa + tb\\ngcd(13,12) = 13*(12)+ 12(-13)\\n= 0\\n\\n\\n'"
      ]
     },
     "execution_count": 65,
     "metadata": {},
     "output_type": "execute_result"
    }
   ],
   "source": [
    "\"\"\"\n",
    "(a,b) = (45,10)\n",
    "\n",
    "k | Rk  Sk  Tk  Qk\n",
    "-------------------\n",
    "0 | 45  1   0   /\n",
    "1 | 10  0   1   /\n",
    "2 |  5  1  -4   4\n",
    "3 |  0  -2  9   2\n",
    "4 |\n",
    "5 | \n",
    "\n",
    "gbd(a,b) = sa + tb\n",
    "gcd(45,10) = 45*(-2)+10*(9)\n",
    "= -90 + 90 \n",
    "= 0 \n",
    "\n",
    "gcd given as 5\n",
    "\n",
    "note: s increments at a slower rate than t.\n",
    "\"\"\"\n",
    "\n",
    "\n",
    "\"\"\"\n",
    "(a,b) = (13,11)\n",
    "\n",
    "k | Rk  Sk  Tk  Qk\n",
    "-------------------\n",
    "0 | 13  1   0   /\n",
    "1 | 11  0   1   /\n",
    "2 |  2  1  -1   1\n",
    "3 |  1  -5  6   5\n",
    "4 |  0  11 -13  2\n",
    "5 | \n",
    "\n",
    "gcd(a,b) = sa + tb\n",
    "gcd(13,11) = 13*(11)+ 11(-13)\n",
    "= 0\n",
    "\n",
    "gcd given as 1\n",
    "\n",
    "\n",
    "\"\"\"\n",
    "\n",
    "\n",
    "\"\"\"\n",
    "(a,b) = (13,12)\n",
    "\n",
    "k | Rk  Sk  Tk  Qk\n",
    "-------------------\n",
    "0 | 13  1   0\n",
    "1 | 12  0   1\n",
    "2 |\n",
    "3 |\n",
    "4 |\n",
    "5 | \n",
    "\n",
    "gcd(a,b) = sa + tb\n",
    "gcd(13,12) = 13*(12)+ 12(-13)\n",
    "= 0\n",
    "\n",
    "\n",
    "\"\"\"\n",
    "\n"
   ]
  },
  {
   "cell_type": "markdown",
   "id": "7d6d0b49",
   "metadata": {},
   "source": [
    "### Exercise 9\n",
    "\n",
    "> Let $n\\in \\N$ be a natural number and $p$ a prime number, such that $n<p$. What is the greatest common divisor $gcd(p,n)$?\n",
    "\n",
    "Always 1\n"
   ]
  },
  {
   "cell_type": "markdown",
   "id": "26f891e8",
   "metadata": {},
   "source": [
    "### Exercise 10\n",
    "\n",
    "> Find all numbers $k\\in\\N$ with $0\\leq k \\leq 100$ such that $gcd(100,k) = 5$.\n",
    "\n",
    "5, 15, 25, 35, 45, 55, 65, 75, 85, 95\n",
    "\n",
    "All numbers in the set where i = (5 + 5*n), up to i < 100.\n",
    "\n",
    "\\begin{align}\n",
    "{i \\in \\mathbb{N} \\mid i = 5(1 + n), \\text{ where } n \\in \\mathbb{N} \\text{ and } i < 100}\n",
    "\\end{align}\n"
   ]
  },
  {
   "cell_type": "markdown",
   "id": "a612fc32",
   "metadata": {},
   "source": [
    "### Exercise 11 (uncertain)\n",
    "\n",
    "\n",
    "> Show that $gcd(n,m) = gcd(n+m,m)$ for all $n,m\\in\\N$.\n",
    "\n",
    "- n is divisible by gcd(n,m) (i.e. n|gbd(n,m)) \n",
    "- m is divisible by gcd(n,m) (i.e. m|gbd(n,m))\n",
    "- n = gcd(n,m)*n'\n",
    "- m = gcd(n,m)*m'\n",
    "- therefore:\n",
    "\n",
    "```\n",
    "gcd(\n",
    "   gcd(n,m)*n'+m,\n",
    "   gcd(n,m)*m'    \n",
    ") ==\n",
    "gcd(\n",
    "   gcd(n,m)*n'+gcd(n,m)*m',\n",
    "   gcd(n,m)*m'\n",
    ") == \n",
    "gcd(\n",
    "   gcd(n',m'),\n",
    "   gcd(n,m)*m'\n",
    ") \n",
    " ```\n",
    " \n"
   ]
  },
  {
   "cell_type": "markdown",
   "id": "87fc2ff2",
   "metadata": {},
   "source": [
    "### Exercise 12\n",
    "\n",
    "> Consider Exercise 8 again. Which pairs $(a,b)$ from that exercise are coprime?\n",
    "\n",
    "(11,13) & (12,13)\n",
    "\n",
    "### Exercise 13\n",
    "\n",
    "> ```\n",
    "Consider the Octal positional system, which represents integers with 8 digits, usually written as $\\{0,1,2,3,4,5,6,7\\}$. Numbers in this system are characterized by the prefix $0o$. Write the numbers $0o1354$ and $0o777$ into their decimal representation.\n",
    "\n",
    "\n",
    "```\n",
    "note: 8^3 = 64*8 = 512\n",
    "\n",
    "(1*8^3)+(3*8^2)+(5*8^1)+(4*8^0) = 512 + (64*3) + (8*5) + 4 = 748 \n",
    "\n",
    "(7*8^2)+(7*8^1)+(7*8^0) = 511\n",
    "```\n",
    "\n",
    "### Exercise 14\n",
    "\n",
    "> ```\n",
    "Which of the following pairs of numbers are congruent with respect to the modulus 13:\n",
    "• (5,19) \n",
    "• (13,0) \n",
    "• (−4,9) \n",
    "• (0,0)\n",
    "\n",
    "1. (5,6): No\n",
    "2. (13,0): Yes\n",
    "3. (9,9): Yes # 13-4; similarly -1 would be 13-1=12\n",
    "4. (0,0): Yes\n",
    "\n",
    "### Exercise 15\n",
    "\n",
    "> Find all integers x, such that the congruence x ≡ 4 ( mod 6 ) is satisfied.\n",
    "\n",
    "\\begin{align}\n",
    "{i \\in \\mathbb{Z} \\mid i = (6 * n)+4, \\text{ where } n \\in \\mathbb{Z}}\n",
    "\\end{align}\n",
    "\n",
    "### Exercise 16\n",
    "> Consider the modulus 13 and find all solutions x ∈ Z to the following congruence: 5x+4≡28+2x (mod13)\n",
    "\n",
    "#### Approach 1 (use Table; O(n) efficiency):\n",
    "```\n",
    "5x+4=28+2x (mod 13)\n",
    "3x=24\n",
    "3x= 24 (mod 13) \n",
    "3x = 11\n",
    "\n",
    "Multiplicative inverse of 3 is 9\n",
    "3^-1 = 9\n",
    "x = 11*9\n",
    "x = 99 mod 13 \n",
    "x = 8\n",
    "```\n",
    "#### Approach 2 (Use Fermant's Little Theorem; O(1) efficiency):\n",
    "```\n",
    "Fermant's Little Theorem:\n",
    "\n",
    "k^p = k (mod p)\n",
    "\n",
    "If K is coprime to p.\n",
    "\n",
    "k^(p-1) = 1 (mod p) \n",
    "\n",
    "k * k^(p-2) = 1 (mod p) \n",
    "\n",
    "----\n",
    "3^(13-2) * 3 = 1\n",
    "9 * 3 = 1\n",
    "----\n",
    "so:\n",
    "x = 11 mod 13\n",
    "x = 8\n",
    "\n",
    "\n",
    "\n",
    "\n",
    "\n",
    "```\n"
   ]
  },
  {
   "cell_type": "code",
   "execution_count": 66,
   "id": "50462e56",
   "metadata": {},
   "outputs": [
    {
     "name": "stdout",
     "output_type": "stream",
     "text": [
      "\n",
      "\n",
      "mod(3^12, 13) = 9\n",
      "\n",
      "\n",
      "  |  0  1  2  3  4  5  6  7  8  9 10 11 12 \n",
      "------------------------------------------\n",
      " 0 |  0  0  0  0  0  0  0  0  0  0  0  0  0 \n",
      " 1 |  0  1  2  3  4  5  6  7  8  9 10 11 12 \n",
      " 2 |  0  2  4  6  8 10 12  1  3  5  7  9 11 \n",
      " 3 |  0  3  6  9 12  2  5  8 11  1  4  7 10 \n",
      " 4 |  0  4  8 12  3  7 11  2  6 10  1  5  9 \n",
      " 5 |  0  5 10  2  7 12  4  9  1  6 11  3  8 \n",
      " 6 |  0  6 12  5 11  4 10  3  9  2  8  1  7 \n",
      " 7 |  0  7  1  8  2  9  3 10  4 11  5 12  6 \n",
      " 8 |  0  8  3 11  6  1  9  4 12  7  2 10  5 \n",
      " 9 |  0  9  5  1 10  6  2 11  7  3 12  8  4 \n",
      "10 |  0 10  7  4  1 11  8  5  2 12  9  6  3 \n",
      "11 |  0 11  9  7  5  3  1 12 10  8  6  4  2 \n",
      "12 |  0 12 11 10  9  8  7  6  5  4  3  2  1 \n"
     ]
    }
   ],
   "source": [
    "# Calculate 3^12 mod 13\n",
    "result = mod(3^11, 13)\n",
    "\n",
    "# Print the result\n",
    "print(\"\\n\")\n",
    "print(f\"mod(3^12, 13) = {result}\")\n",
    "print(\"\\n\")\n",
    "\n",
    "def print_multiplication_table_mod_13():\n",
    "    # Print header row\n",
    "    print(\"  |\", end=\" \")\n",
    "    for i in range(13):\n",
    "        print(f\"{i:2}\", end=\" \")\n",
    "    print()\n",
    "    print(\"---\" + \"-\" * 39)\n",
    "    \n",
    "    # Iterate through each pair of numbers (0 to 12)\n",
    "    for i in range(13):\n",
    "        # Print the row number\n",
    "        print(f\"{i:2} |\", end=\" \")\n",
    "        \n",
    "        # Calculate and print the multiplication mod 13\n",
    "        for j in range(13):\n",
    "            product_mod_13 = (i * j) % 13\n",
    "            print(f\"{product_mod_13:2}\", end=\" \")\n",
    "        \n",
    "        # Move to the next line for the next row\n",
    "        print()\n",
    "\n",
    "# Call the function to print the table\n",
    "print_multiplication_table_mod_13()"
   ]
  },
  {
   "cell_type": "markdown",
   "id": "d53bea65",
   "metadata": {},
   "source": [
    "\n",
    "\n",
    "### Exercise 17\n",
    "> Consider the modulus 23 and find all solutions x ∈ Z to the following congruence: 69x≡5 (mod23)\n",
    "\n",
    "69x = 0x = 0\n",
    "\n",
    "There is no solution\n",
    "\n",
    "\n",
    "### Exercise 18\n",
    "> Consider the modulus 23 and find all solutions x ∈ Z to the following congruence: 69x≡46 (mod23)\n",
    "\n",
    "69x = 0x = 0 \n",
    "\n",
    "There is no solution\n",
    "\n",
    "###  Exercise 19\n",
    "> Let $a,b,k$ be integers, such that $ a \\cdot x \\equiv b \\pmod{n}$  holds. Show $ a^k \\cdot x \\equiv b^k \\pmod{n}$\n"
   ]
  },
  {
   "cell_type": "markdown",
   "id": "a1184054",
   "metadata": {},
   "source": [
    "Compatibility with multiplication:\n",
    "\n",
    "```\n",
    "a=b(mod n) => aa = bb (mod n)\n",
    "```"
   ]
  },
  {
   "cell_type": "markdown",
   "id": "298017c0",
   "metadata": {},
   "source": [
    "### Exercise 20 (uncertain)\n",
    "> Let $a$ and $n$ be integers such that $a$ and $n$ are not coprime. For which $b \\in \\mathbb{Z}$ does the congruence $\\equiv a \\cdot x \\equiv b \\pmod{n}$ have a solution $x$, and how does the solution set look in that case?\n"
   ]
  },
  {
   "cell_type": "code",
   "execution_count": 67,
   "id": "52a49e54",
   "metadata": {},
   "outputs": [
    {
     "data": {
      "text/plain": [
       "'\\nMaybe the order of the solution set is based on the smallest prime factor of a divided by n?\\n'"
      ]
     },
     "execution_count": 67,
     "metadata": {},
     "output_type": "execute_result"
    }
   ],
   "source": [
    "\"stuck.\"\n",
    "\"\"\"\n",
    "gcd(a,n) != 1\n",
    "\n",
    "since 0 < a mod(n) < n, then n can't be prime.\n",
    "\n",
    "ax=b(mod n)\n",
    "\n",
    "since there are no multiplicative inverses\n",
    "\"\"\"\n",
    "\n",
    "\"\"\"\n",
    "ax=b (mod 6)\n",
    "2x=b (mod 6)\n",
    "x={0,2,4}; order is 3\n",
    "\n",
    "ax=b (mod 6)\n",
    "3x=b (mod 6)\n",
    "x={0,3}; order is 2\n",
    "\n",
    "ax=b (mod 6)\n",
    "4x=b (mod 6)\n",
    "x={0,2,4}; order is 2\n",
    "\"\"\"\n",
    "\n",
    "\"\"\"\n",
    "Maybe the order of the solution set is based on the smallest prime factor of a divided by n?\n",
    "\"\"\""
   ]
  },
  {
   "cell_type": "code",
   "execution_count": 68,
   "id": "2a80e8f9",
   "metadata": {},
   "outputs": [
    {
     "name": "stdout",
     "output_type": "stream",
     "text": [
      "   |  0  1  2  3  4  5  6  7  8  9 10 11 12 13 14 \n",
      "------------------------------------------------\n",
      " 0 |  0  0  0  0  0  0  0  0  0  0  0  0  0  0  0 \n",
      " 1 |  0  1  2  3  4  5  6  7  8  9 10 11 12 13 14 \n",
      " 2 |  0  2  4  6  8 10 12 14  1  3  5  7  9 11 13 \n",
      " 3 |  0  3  6  9 12  0  3  6  9 12  0  3  6  9 12 \n",
      " 4 |  0  4  8 12  1  5  9 13  2  6 10 14  3  7 11 \n",
      " 5 |  0  5 10  0  5 10  0  5 10  0  5 10  0  5 10 \n",
      " 6 |  0  6 12  3  9  0  6 12  3  9  0  6 12  3  9 \n",
      " 7 |  0  7 14  6 13  5 12  4 11  3 10  2  9  1  8 \n",
      " 8 |  0  8  1  9  2 10  3 11  4 12  5 13  6 14  7 \n",
      " 9 |  0  9  3 12  6  0  9  3 12  6  0  9  3 12  6 \n",
      "10 |  0 10  5  0 10  5  0 10  5  0 10  5  0 10  5 \n",
      "11 |  0 11  7  3 14 10  6  2 13  9  5  1 12  8  4 \n",
      "12 |  0 12  9  6  3  0 12  9  6  3  0 12  9  6  3 \n",
      "13 |  0 13 11  9  7  5  3  1 14 12 10  8  6  4  2 \n",
      "14 |  0 14 13 12 11 10  9  8  7  6  5  4  3  2  1 \n"
     ]
    }
   ],
   "source": [
    "def print_multiplication_table_mod_15():\n",
    "    # Print header row\n",
    "    print(\"   |\", end=\" \")\n",
    "    for i in range(15):\n",
    "        print(f\"{i:2}\", end=\" \")\n",
    "    print()\n",
    "    print(\"---\" + \"-\" * 45)  # Adjusted the number of dashes\n",
    "\n",
    "    # Iterate through each pair of numbers (0 to 14)\n",
    "    for i in range(15):\n",
    "        # Print the row number\n",
    "        print(f\"{i:2} |\", end=\" \")\n",
    "\n",
    "        # Calculate and print the multiplication mod 15\n",
    "        for j in range(15):\n",
    "            product_mod_15 = (i * j) % 15\n",
    "            print(f\"{product_mod_15:2}\", end=\" \")\n",
    "\n",
    "        # Move to the next line for the next row\n",
    "        print()\n",
    "\n",
    "# Call the function to print the table\n",
    "print_multiplication_table_mod_15()\n"
   ]
  },
  {
   "cell_type": "markdown",
   "id": "958a0d79",
   "metadata": {},
   "source": [
    "### Exercise 21\n",
    "\n",
    "> Define $\\mathbb{Z}_{13}$ as the arithmetic modulo 13. Consider the following equation:\n",
    ">\n",
    "> $$5x + 4 \\equiv 28 +2x \\pmod{13}$$\n",
    ">\n",
    "> Rewrite this in $\\mathbb{Z}_{13}$.\n"
   ]
  },
  {
   "cell_type": "code",
   "execution_count": 69,
   "id": "b4505af5",
   "metadata": {},
   "outputs": [
    {
     "name": "stdout",
     "output_type": "stream",
     "text": [
      "mod(3^12, 13) = 9\n"
     ]
    }
   ],
   "source": [
    "\"\"\"\n",
    "5x+4 = 2+2x\n",
    "3x = -2\n",
    "3x = 11\n",
    "since gcd(3,13)=1\n",
    "3^(13-2)  = multplicative inverse\n",
    "\"\"\"\n",
    "result = mod(3^11, 13)\n",
    "print(f\"mod(3^12, 13) = {result}\")"
   ]
  },
  {
   "cell_type": "markdown",
   "id": "641fcf16",
   "metadata": {},
   "source": [
    "x=99\n",
    "\n",
    "x=8\n"
   ]
  },
  {
   "cell_type": "markdown",
   "id": "2b51ed44",
   "metadata": {},
   "source": [
    "$13k+8, k \\in \\mathbb{N}$"
   ]
  },
  {
   "cell_type": "markdown",
   "id": "d35569a4",
   "metadata": {},
   "source": [
    "### Exercise 22\n",
    "\n",
    "> Which of the integers 7, 1, 0, 805, -4255 have multiplicative inverses in modular 24 arithmetic?"
   ]
  },
  {
   "cell_type": "code",
   "execution_count": 70,
   "id": "abee07b5",
   "metadata": {},
   "outputs": [
    {
     "name": "stdout",
     "output_type": "stream",
     "text": [
      "13\n",
      "17\n"
     ]
    }
   ],
   "source": [
    "print(mod(805,24))\n",
    "print(mod(-4255,24))"
   ]
  },
  {
   "cell_type": "markdown",
   "id": "c4c794de",
   "metadata": {},
   "source": [
    "7,1,0,13,17\n",
    "\n",
    "7 = yes \n",
    "\n",
    "1 = yes\n",
    "\n",
    "0 = no\n",
    "\n",
    "13 = yes \n",
    "\n",
    "17 = yes\n",
    "\n",
    "because 1,13,17 are co-prime with 24"
   ]
  },
  {
   "cell_type": "code",
   "execution_count": 71,
   "id": "8470b554",
   "metadata": {},
   "outputs": [
    {
     "name": "stdout",
     "output_type": "stream",
     "text": [
      "   |  0  1  2  3  4  5  6  7  8  9 10 11 12 13 14 15 16 17 18 19 20 21 22 23 \n",
      "---------------------------------------------------------------------------\n",
      " 0 |  0  0  0  0  0  0  0  0  0  0  0  0  0  0  0  0  0  0  0  0  0  0  0  0 \n",
      " 1 |  0  1  2  3  4  5  6  7  8  9 10 11 12 13 14 15 16 17 18 19 20 21 22 23 \n",
      " 2 |  0  2  4  6  8 10 12 14 16 18 20 22  0  2  4  6  8 10 12 14 16 18 20 22 \n",
      " 3 |  0  3  6  9 12 15 18 21  0  3  6  9 12 15 18 21  0  3  6  9 12 15 18 21 \n",
      " 4 |  0  4  8 12 16 20  0  4  8 12 16 20  0  4  8 12 16 20  0  4  8 12 16 20 \n",
      " 5 |  0  5 10 15 20  1  6 11 16 21  2  7 12 17 22  3  8 13 18 23  4  9 14 19 \n",
      " 6 |  0  6 12 18  0  6 12 18  0  6 12 18  0  6 12 18  0  6 12 18  0  6 12 18 \n",
      " 7 |  0  7 14 21  4 11 18  1  8 15 22  5 12 19  2  9 16 23  6 13 20  3 10 17 \n",
      " 8 |  0  8 16  0  8 16  0  8 16  0  8 16  0  8 16  0  8 16  0  8 16  0  8 16 \n",
      " 9 |  0  9 18  3 12 21  6 15  0  9 18  3 12 21  6 15  0  9 18  3 12 21  6 15 \n",
      "10 |  0 10 20  6 16  2 12 22  8 18  4 14  0 10 20  6 16  2 12 22  8 18  4 14 \n",
      "11 |  0 11 22  9 20  7 18  5 16  3 14  1 12 23 10 21  8 19  6 17  4 15  2 13 \n",
      "12 |  0 12  0 12  0 12  0 12  0 12  0 12  0 12  0 12  0 12  0 12  0 12  0 12 \n",
      "13 |  0 13  2 15  4 17  6 19  8 21 10 23 12  1 14  3 16  5 18  7 20  9 22 11 \n",
      "14 |  0 14  4 18  8 22 12  2 16  6 20 10  0 14  4 18  8 22 12  2 16  6 20 10 \n",
      "15 |  0 15  6 21 12  3 18  9  0 15  6 21 12  3 18  9  0 15  6 21 12  3 18  9 \n",
      "16 |  0 16  8  0 16  8  0 16  8  0 16  8  0 16  8  0 16  8  0 16  8  0 16  8 \n",
      "17 |  0 17 10  3 20 13  6 23 16  9  2 19 12  5 22 15  8  1 18 11  4 21 14  7 \n",
      "18 |  0 18 12  6  0 18 12  6  0 18 12  6  0 18 12  6  0 18 12  6  0 18 12  6 \n",
      "19 |  0 19 14  9  4 23 18 13  8  3 22 17 12  7  2 21 16 11  6  1 20 15 10  5 \n",
      "20 |  0 20 16 12  8  4  0 20 16 12  8  4  0 20 16 12  8  4  0 20 16 12  8  4 \n",
      "21 |  0 21 18 15 12  9  6  3  0 21 18 15 12  9  6  3  0 21 18 15 12  9  6  3 \n",
      "22 |  0 22 20 18 16 14 12 10  8  6  4  2  0 22 20 18 16 14 12 10  8  6  4  2 \n",
      "23 |  0 23 22 21 20 19 18 17 16 15 14 13 12 11 10  9  8  7  6  5  4  3  2  1 \n"
     ]
    }
   ],
   "source": [
    "def print_multiplication_table_mod_24():\n",
    "    # Print header row\n",
    "    print(\"   |\", end=\" \")\n",
    "    for i in range(24):\n",
    "        print(f\"{i:2}\", end=\" \")\n",
    "    print()\n",
    "    print(\"---\" + \"-\" * 72)  # Adjusted the number of dashes\n",
    "\n",
    "    # Iterate through each pair of numbers (0 to 23)\n",
    "    for i in range(24):\n",
    "        # Print the row number\n",
    "        print(f\"{i:2} |\", end=\" \")\n",
    "\n",
    "        # Calculate and print the multiplication mod 24\n",
    "        for j in range(24):\n",
    "            product_mod_24 = (i * j) % 24\n",
    "            print(f\"{product_mod_24:2}\", end=\" \")\n",
    "\n",
    "        # Move to the next line for the next row\n",
    "        print()\n",
    "\n",
    "# Call the function to print the table\n",
    "print_multiplication_table_mod_24()"
   ]
  },
  {
   "cell_type": "code",
   "execution_count": 72,
   "id": "a9bc46b2",
   "metadata": {},
   "outputs": [
    {
     "name": "stdout",
     "output_type": "stream",
     "text": [
      "using sage:\n",
      "(1, -2, 7)\n",
      "(1, 6, -11)\n",
      "(1, 5, -7)\n"
     ]
    }
   ],
   "source": [
    "print(\"using sage:\")\n",
    "print(xgcd(24, 7)) \n",
    "print(xgcd(24, 13))\n",
    "print(xgcd(24, 17))"
   ]
  },
  {
   "cell_type": "markdown",
   "id": "6e33c3f8",
   "metadata": {},
   "source": [
    "### Exercise 23\n",
    "\n",
    "> Find the set of all solutions to the congruence $17(2x + 5) - 4 \\equiv 2x + 4 \\pmod{5}$. Then, project the congruence into $\\mathbb{Z}_5$ and solve the resulting equation in $\\mathbb{Z}_5$."
   ]
  },
  {
   "cell_type": "code",
   "execution_count": 73,
   "id": "0da85f94",
   "metadata": {},
   "outputs": [
    {
     "name": "stdout",
     "output_type": "stream",
     "text": [
      "inverse: 3\n"
     ]
    },
    {
     "data": {
      "text/plain": [
       "'\\nx=9\\nx=4\\n'"
      ]
     },
     "execution_count": 73,
     "metadata": {},
     "output_type": "execute_result"
    }
   ],
   "source": [
    "\"\"\"\n",
    "2(2x+5)-4=2x+4\n",
    "2x=-2\n",
    "2x=3\n",
    "\"\"\"\n",
    "print(\"inverse:\", mod(2^(5-2),5))\n",
    "\"\"\"\n",
    "x=9\n",
    "x=4\n",
    "\"\"\"\n"
   ]
  },
  {
   "cell_type": "markdown",
   "id": "2ee3cf34",
   "metadata": {},
   "source": [
    "### Exercise 24\n",
    "\n",
    "> Find the set of all solutions to the congruence $17(2x + 5) - 4 \\equiv 2x + 4 \\pmod{6}$. Then, project the congruence into $\\mathbb{Z}_6$ and _try to solve_ the resulting equation in $\\mathbb{Z}_6$."
   ]
  },
  {
   "cell_type": "code",
   "execution_count": null,
   "id": "e712e0d6",
   "metadata": {},
   "outputs": [],
   "source": [
    "\"\"\"\n",
    "5(2x + 5) - 4 = 2x + 4\n",
    "4x + 21 = 2x + 4\n",
    "2x + 3 = 4\n",
    "2x = 1\n",
    "\n",
    "2 and 6 are not co-prime. no solution\n",
    "\"\"\""
   ]
  },
  {
   "cell_type": "markdown",
   "id": "fdbeb3f5",
   "metadata": {},
   "source": [
    "### Exercise 25\n",
    "\n",
    "> Compare both expansions of $P_7$ from $\\mathbb{Z}[x]$ in example 18 and from $\\mathbb{Z}_6[x]$ in example 19. Can you see how definition of $P_7$ over $\\mathbb{Z}$ projects to the definition over $\\mathbb{Z}_6$, if you consider the residue classes of $\\mathbb{Z}_6$?"
   ]
  },
  {
   "cell_type": "markdown",
   "id": "3f7ddfef",
   "metadata": {},
   "source": [
    "Yes."
   ]
  },
  {
   "cell_type": "markdown",
   "id": "5c31b80f",
   "metadata": {},
   "source": [
    "### Exercise 26 (unsure)\n",
    "\n",
    "> Compare the sum $P + Q$ and the product $P \\cdot Q$ from the previous two examples 22 and 23. How can we derive the computations in $\\mathbb{Z}_6[x]$ from the computations in $\\mathbb{Z}[x]$?"
   ]
  },
  {
   "cell_type": "markdown",
   "id": "5a811654",
   "metadata": {},
   "source": [
    "Unsure how to answer \n",
    "\n",
    "Ideas: \n",
    "- Using the residue classes\n",
    "- Factoring"
   ]
  },
  {
   "cell_type": "markdown",
   "id": "742ccb33",
   "metadata": {},
   "source": [
    "### Exercise 27\n",
    "\n",
    "> Consider polynomials $A(x) := -3x^4 + 4x^3 + 2x^2 + 4$ and $B(x) = x^2 - 4x + 2$. Compute the Euclidean Division of A by B in the following types:\n",
    ">\n",
    "> - $A, B \\in \\mathbb{Z}[x]$\n",
    "> - $A, B \\in \\mathbb{Z}_6[x]$\n",
    "> - $A, B \\in \\mathbb{Z}_5[x]$"
   ]
  },
  {
   "cell_type": "code",
   "execution_count": 75,
   "id": "2be897c9",
   "metadata": {},
   "outputs": [
    {
     "name": "stdout",
     "output_type": "stream",
     "text": [
      "-3*x^2 - 8*x - 24\n",
      "-80*x + 52\n"
     ]
    }
   ],
   "source": [
    "\"\"\"\n",
    "\n",
    "                  -3x^2 - 8x - 24\n",
    "            ---------------------------------\n",
    "x^2 - 4x + 2 |    -3x^4 + 4x^3  + 2x^2 + 4\n",
    "               - (-3x^4 + 12x^3 - 6x^2)\n",
    "                -------------------\n",
    "                        - 8x^3 + 8x^2\n",
    "                    -  (- 8x^3 + 32x^2 - 16x)\n",
    "                                  ------------\n",
    "                                 -24x^2 + 16x\n",
    "                             -  (-24x^2 + 96x - 48)\n",
    "                                        -----------\n",
    "                                        -80x + 48 (+4) \n",
    "                                        = -80x + 52 remainder\n",
    "                                                               \n",
    "                                \n",
    "\"\"\"\n",
    "\n",
    "ZZx = ZZ['x']\n",
    "A = ZZx([4, 0, 2, 4, -3]) \n",
    "B = ZZx([2, -4, 1])\n",
    "\n",
    "# quotient\n",
    "print(A // B)\n",
    "\n",
    "# remainder\n",
    "print(A % B) "
   ]
  },
  {
   "cell_type": "markdown",
   "id": "7ddfbeaf",
   "metadata": {},
   "source": [
    "### Exercise 28\n",
    "\n",
    "> Show that the polynomial $B(x) = 2x^4 -3x +4 \\in \\mathbb{Z}_5[x]$ is a factor of the polynomial $A(x) = x^7 + 4x^6 + 4x^5 + x^3 + 2x^2 + 2x + 3 \\in \\mathbb{Z}_5[x]$."
   ]
  },
  {
   "cell_type": "code",
   "execution_count": 78,
   "id": "dd18523a",
   "metadata": {},
   "outputs": [
    {
     "name": "stdout",
     "output_type": "stream",
     "text": [
      "3*x^3 + 2*x^2 + 2*x + 2\n",
      "0\n"
     ]
    }
   ],
   "source": [
    "\"\"\"\n",
    "           3x3 ....cont....\n",
    "         ------------------------------------\n",
    "2𝑥4−3𝑥+4 | 𝑥7 + 4𝑥6 + 4𝑥5 + 𝑥3 + 2𝑥2 + 2𝑥 + 3\n",
    "           x7  ....cont...\n",
    "           \n",
    "\n",
    "## x7 = (2x4)(ixj)\n",
    "## we need the multiplicative inverse of 2\n",
    "## 2^5-2 = 2^3 = 8 = 3\n",
    "## so (2x4)(3x3)= x7\n",
    "\n",
    "\n",
    "\n",
    "\"\"\"\n",
    "\n",
    "Z5 = Integers(5)\n",
    "Z5x = Z5['x']\n",
    "A = Z5x([3,2,2,1,0,4,4,1]) \n",
    "B = Z5x([4,-3,0,0,2])\n",
    "\n",
    "# quotient\n",
    "print(A // B)\n",
    "\n",
    "# remainder\n",
    "print(A % B) "
   ]
  },
  {
   "cell_type": "markdown",
   "id": "1c151c0c",
   "metadata": {},
   "source": [
    "### Exercise 29 (uncertain)\n",
    "\n",
    "> Show that if a polynomial $P \\in \\mathbb{R}[X]$ of degree $\\deg(P) = m$ has less than $m$ roots, it must have a prime factor $F$ such that $\\deg(F) > 1$."
   ]
  },
  {
   "cell_type": "code",
   "execution_count": 79,
   "id": "7461dacb",
   "metadata": {},
   "outputs": [
    {
     "data": {
      "text/plain": [
       "'abstract\\np has k roots\\np(x) = (x-k1)(x-k2)...(x-kn)Q(x)\\n'"
      ]
     },
     "execution_count": 79,
     "metadata": {},
     "output_type": "execute_result"
    }
   ],
   "source": [
    "\"\"\"numberical\n",
    "deg(P) = 3\n",
    "IF polynomial has less than 3 roots, then it must have a prime factor F such that deg(F) > 1.\n",
    "IF polynomial has 3 roots of more, it might not have a prime factor F\n",
    "\n",
    "\"\"\"\n",
    "\n",
    "\"\"\"abstract\n",
    "p has k roots\n",
    "\n",
    "P(x) = Q(x)(roots) + R(x)\n",
    "\n",
    "\n",
    "\"\"\""
   ]
  },
  {
   "cell_type": "markdown",
   "id": "060444b5",
   "metadata": {},
   "source": [
    "### Exercise 30\n",
    "\n",
    "> Consider $P = x^7 + 3x^6 + 3x^5 + x^4 - x^3 - 3x^2 - 3x - 1$ in $\\mathbb{Z}_6[X]$. Find the set of all roots $R_0(P)$ and then compute the prime factorization of $P$."
   ]
  },
  {
   "cell_type": "code",
   "execution_count": 83,
   "id": "44fdbc31",
   "metadata": {},
   "outputs": [
    {
     "name": "stdout",
     "output_type": "stream",
     "text": [
      "Roots: [1, 5]\n"
     ]
    }
   ],
   "source": [
    "Z6 = Integers(6)\n",
    "Z6x = Z6['x']\n",
    "P = Z6x([-1, -3, -3, -1, 1, 3, 3, 1])\n",
    "\n",
    "roots = P.roots(multiplicities=False)\n",
    "print(\"Roots:\", roots)\n"
   ]
  },
  {
   "cell_type": "markdown",
   "id": "26e6993d",
   "metadata": {},
   "source": [
    "### Exercise 31\n",
    "\n",
    "> Consider modular 5 arithmetic, and set $S = \\{(0, 0), (1, 1), (2, 2), (3, 2)\\}$. Find a polynomial $P \\in \\mathbb{Z}_5[x]$ such that $P(x_i) = y_i$ for all $(x_i, y_i) \\in S$."
   ]
  },
  {
   "cell_type": "code",
   "execution_count": 84,
   "id": "6b6f3edd",
   "metadata": {},
   "outputs": [
    {
     "data": {
      "text/plain": [
       "4*x^3 + 3*x^2 + 4*x"
      ]
     },
     "execution_count": 84,
     "metadata": {},
     "output_type": "execute_result"
    }
   ],
   "source": [
    "Z5 = Integers(5)\n",
    "Z5x = Z5[\"x\"]\n",
    "Z5x.lagrange_polynomial([(0, 0), (1, 1), (2, 2), (3, 2)])"
   ]
  },
  {
   "cell_type": "markdown",
   "id": "0bec3044",
   "metadata": {},
   "source": [
    "### Exercise 32\n",
    "\n",
    "> Consider the same set $S = \\{(0, 0), (1, 1), (2, 2), (3, 2)\\}$. Why is it not possible to do Lagrange interpolation for these points in $\\mathbb{Z}_6[x]$?"
   ]
  },
  {
   "cell_type": "markdown",
   "id": "30aeee53",
   "metadata": {},
   "source": [
    "Because Lagrange Interpolation requires division, we need multiplicative inverses.\n",
    "\n",
    "Since Z6 is not prime, there are numbers that don't have multiplicative inverses, which also feature in the set\n",
    "\n"
   ]
  }
 ],
 "metadata": {
  "kernelspec": {
   "display_name": "SageMath 10.2",
   "language": "sage",
   "name": "sagemath"
  },
  "language_info": {
   "codemirror_mode": {
    "name": "ipython",
    "version": 3
   },
   "file_extension": ".py",
   "mimetype": "text/x-python",
   "name": "python",
   "nbconvert_exporter": "python",
   "pygments_lexer": "ipython3",
   "version": "3.9.19"
  }
 },
 "nbformat": 4,
 "nbformat_minor": 5
}
