{
 "cells": [
  {
   "cell_type": "markdown",
   "id": "5d33bbaf",
   "metadata": {},
   "source": [
    "# Arithmetic\n",
    "\n",
    "## Exercises\n",
    "\n",
    "### Exercise 1 \n",
    "\n",
    "> What are the absolute values of integers -123, 27 and 0?\n",
    "\n",
    "123, 27 and 0.\n",
    "\n",
    "### Exercise 2\n",
    "\n",
    "> Compute the factorization of 30030 and double-check your results using Sage.\n"
   ]
  },
  {
   "cell_type": "code",
   "execution_count": 2,
   "id": "9aed9f19",
   "metadata": {},
   "outputs": [
    {
     "data": {
      "text/plain": [
       "2 * 3 * 5 * 7 * 11 * 13"
      ]
     },
     "execution_count": 2,
     "metadata": {},
     "output_type": "execute_result"
    }
   ],
   "source": [
    "factor(30030)"
   ]
  },
  {
   "cell_type": "markdown",
   "id": "913c283f",
   "metadata": {},
   "source": [
    "### Exercise 3\n",
    "\n",
    "> Consider the following equation: \n",
    "> 4·x+21 = 5\n",
    "> Compute the set of all solutions for x under the following alternative assumptions:\n",
    "> 1. The equation is defined over the set of natural numbers.\n",
    "> 2. The equation is defined over the set of integers.\n",
    "\n",
    "#### Exercise 3.1"
   ]
  },
  {
   "cell_type": "markdown",
   "id": "cc01df40",
   "metadata": {},
   "source": [
    "Over natural numbers: \n",
    "\n",
    "\\begin{align*}\n",
    "\\mathbb{N} := \\{1,2,3,\\ldots\\} \n",
    "\\end{align*}\n",
    "\n",
    "Solution:\n",
    "\n",
    "\\begin{align}\n",
    "4 + x + 21 &= 5 \\\\\n",
    "x + 21 &= 1 \\\\\n",
    "x &= 1-21 \\\\\n",
    "\\end{align}\n",
    "\n",
    "There is no solution."
   ]
  },
  {
   "cell_type": "code",
   "execution_count": 3,
   "id": "a0e59474",
   "metadata": {
    "scrolled": true
   },
   "outputs": [
    {
     "name": "stdout",
     "output_type": "stream",
     "text": [
      "No solution for x belongs to the domain of non-negative integers.\n"
     ]
    }
   ],
   "source": [
    "x = var('x')\n",
    "equation = NN(4) + x + NN(21) == NN(5)\n",
    "solution = solve(equation, x, domain=NN)\n",
    "if any(sol in NN for sol in solution):\n",
    "    print(\"At least one solution for x belongs to the domain of non-negative integers.\")\n",
    "else:\n",
    "    print(\"No solution for x belongs to the domain of non-negative integers.\")"
   ]
  },
  {
   "cell_type": "markdown",
   "id": "7548ee00",
   "metadata": {},
   "source": [
    "#### Exercise 3.2"
   ]
  },
  {
   "cell_type": "markdown",
   "id": "2a639248",
   "metadata": {},
   "source": [
    "Over integers: \n",
    "    \n",
    "\\begin{equation}\n",
    "\\mathbb{Z} := \\{\\ldots, -3,-2,-1,0,1,2,3,\\ldots\\}\n",
    "\\end{equation}\n",
    "\n",
    "Solution:\n",
    "\n",
    "\\begin{align}\n",
    "4 + x + 21 &= 5 \\\\\n",
    "x + 21 &= 1 \\\\\n",
    "x &= 1-21 \\\\\n",
    "x &= -20 \\\\\n",
    "\\end{align}"
   ]
  },
  {
   "cell_type": "markdown",
   "id": "b8ed53a6",
   "metadata": {},
   "source": [
    "### Exercise 4\n",
    "\n",
    "> Consider the following equation:\n",
    "\\begin{align}\n",
    "2x^3 - x^2 - 2x &= -1 \\\\ \n",
    "\\end{align}\n",
    "> Compute the set of all solutions x under the following assumptions:\n",
    "> 1. The equation is defined over the set of natural numbers. \n",
    "> 2. The equation is defined over the set of integers.\n",
    "> 3. The equation is defined over the set of rational numbers."
   ]
  },
  {
   "cell_type": "markdown",
   "id": "0b66d259",
   "metadata": {},
   "source": [
    "#### Exercise 4.1\n",
    "\n",
    "Answer: 1"
   ]
  },
  {
   "cell_type": "markdown",
   "id": "d1523ea0",
   "metadata": {},
   "source": [
    "#### Exercise 4.2\n",
    "\n",
    "Answer: 1,-1"
   ]
  },
  {
   "cell_type": "markdown",
   "id": "8f6a4e8b",
   "metadata": {},
   "source": [
    "#### Exercise 4.3\n",
    "\n",
    "Answer: 1,-1,0.5"
   ]
  },
  {
   "cell_type": "code",
   "execution_count": 4,
   "id": "cde285ef",
   "metadata": {},
   "outputs": [
    {
     "name": "stdout",
     "output_type": "stream",
     "text": [
      "All solutions: x == (1/2), x == -1, x == 1\n",
      "Natural number solutions: [x == 1]\n",
      "Integer solutions: [x == -1, x == 1]\n"
     ]
    }
   ],
   "source": [
    "x = var('x')\n",
    "\n",
    "equation = 2*x^3 - x^2 - 2*x == -1\n",
    "\n",
    "solutions = solve(equation, x)\n",
    "\n",
    "print(\"All solutions:\", ', '.join(str(solution) for solution in solutions))\n",
    "\n",
    "nn_solutions = []\n",
    "for solution in solutions:\n",
    "    number = solution.rhs()\n",
    "    if number.is_integer() and number > 0:\n",
    "        nn_solutions.append(solution)\n",
    "print(f\"Natural number solutions: {nn_solutions}\")\n",
    "\n",
    "z_solutions = []\n",
    "for solution in solutions:\n",
    "    number = solution.rhs()\n",
    "    if number.is_integer():\n",
    "        z_solutions.append(solution)\n",
    "print(f\"Integer solutions: {z_solutions}\")\n",
    "\n",
    "# q_solutions = []\n",
    "# for solution in solutions:\n",
    "#     number = solution.rhs()\n",
    "#     if number.is_rational():\n",
    "#         q_solutions.append(solution)\n",
    "# print(f\"Rational number solutions: {q_solutions}\")"
   ]
  },
  {
   "cell_type": "markdown",
   "id": "7637d679",
   "metadata": {},
   "source": [
    "### Exercise 5\n",
    "\n",
    "Find an $m\\in\\Z$ and an $r\\in\\N$ with $0\\leq r< |b|$ such that $a= m\\cdot b +r$ holds for the following pairs:\n",
    "\n",
    "\\begin{align}\n",
    "(a, b) &= (27, 5) \\\\\n",
    "(a, b) &= (27, -5) \\\\\n",
    "(a, b) &= (127, 0) \\\\\n",
    "(a, b) &= (-1687, 11) \\\\\n",
    "(a, b) &= (0, 7) \\\\\n",
    "\\end{align}\n",
    "\n",
    "In which cases are your solutions unique?"
   ]
  },
  {
   "cell_type": "markdown",
   "id": "59fa0368",
   "metadata": {},
   "source": [
    "###### 1. (a,b) = (27,5)\n",
    "\n",
    "27 = 5*5+2\n",
    "\n",
    "(m,r) = (5,2)\n",
    "\n",
    "###### 2. (a,b) = (27,5)\n",
    "\n",
    "27 = -5*-5+2\n",
    "\n",
    "(m,r) = (-5,2)\n",
    "\n",
    "###### 3. (a,b) = (127,0)\n",
    "\n",
    "127 = 0m+r\n",
    "\n",
    "No solution because 0<r<127\n",
    "\n",
    "r can at most be 126.\n",
    "\n",
    "###### 4. (a,b) = (-1687,11)\n",
    "\n",
    "-1687 = 11m+r"
   ]
  },
  {
   "cell_type": "code",
   "execution_count": 5,
   "id": "749a23ee",
   "metadata": {},
   "outputs": [
    {
     "name": "stdout",
     "output_type": "stream",
     "text": [
      "positive\n",
      "1687\n",
      "negative\n",
      "-1687\n",
      "this there a better way?\n",
      "answer: (154,7)\n"
     ]
    }
   ],
   "source": [
    "\"\"\"\n",
    "\n",
    "     0153\n",
    "   -------\n",
    "11/  1687\n",
    "     11\n",
    "     --\n",
    "     058\n",
    "      55\n",
    "      --\n",
    "      037\n",
    "       33\n",
    "       --\n",
    "       04\n",
    "           \n",
    "\"\"\"\n",
    "print(\"positive\")\n",
    "print((11*153)+4)\n",
    "print(\"negative\")\n",
    "print((11*-(153+1)+(11-4)))\n",
    "print(\"this there a better way?\")\n",
    "print(\"answer: (154,7)\")"
   ]
  },
  {
   "cell_type": "markdown",
   "id": "dcbacc3c",
   "metadata": {},
   "source": [
    "###### 5. (a, b) &= (0, 7)\n",
    "\n",
    "0 = 7m + r\n",
    "(m,r) = (0,0)"
   ]
  },
  {
   "cell_type": "markdown",
   "id": "6b9c97f5",
   "metadata": {},
   "source": [
    "### Exercise 6\n",
    "\n",
    "> Using the programming language of your choice, write an algorithm that computes integer long division and handles all edge cases properly.\n"
   ]
  },
  {
   "cell_type": "markdown",
   "id": "853ec3d2",
   "metadata": {},
   "source": [
    "```rust\n",
    "\n",
    "pub fn long_division(dividend: i64, divisor: i64) -> (i64, i64) {\n",
    "    let dividend_abs = dividend.abs() as usize;\n",
    "    let divisor_abs = divisor.abs() as usize;\n",
    "\n",
    "    let dividend_string = dividend_abs.to_string();\n",
    "    let mut digits = Vec::new();\n",
    "    for c in dividend_string.chars() {\n",
    "        let digit = c.to_digit(10).unwrap();\n",
    "        digits.push(digit);\n",
    "    }\n",
    "    println!(\"DIGITS: {:?}\", digits);\n",
    "\n",
    "    let mut quotient = 0;\n",
    "    let mut num = 0;\n",
    "\n",
    "    for i in 0..digits.len() {\n",
    "        num = num * 10 + digits[i] as usize;\n",
    "\n",
    "        if num >= divisor_abs {\n",
    "            let mut count = 0;\n",
    "            while num >= divisor_abs * (count + 1) {\n",
    "                count += 1;\n",
    "            }\n",
    "\n",
    "            quotient = quotient * 10 + count;\n",
    "            num -= divisor_abs * count;\n",
    "        } else if quotient > 0 {\n",
    "            quotient *= 10;\n",
    "        }\n",
    "    }\n",
    "\n",
    "    let remainder = num as i64;\n",
    "\n",
    "    let sign = (dividend < 0) ^ (divisor < 0);\n",
    "    let quotient_signed = (quotient as i64) * if sign { -1 } else { 1 };\n",
    "    let quotient_adjusted = if dividend < 0 {\n",
    "        quotient_signed - 1\n",
    "    } else {\n",
    "        quotient_signed\n",
    "    };\n",
    "    let remainder_adjusted = if dividend < 0 {\n",
    "        divisor.abs() - remainder\n",
    "    } else {\n",
    "        remainder\n",
    "    };\n",
    "\n",
    "    (quotient_adjusted, remainder_adjusted)\n",
    "}\n",
    "\n",
    "#[cfg(test)]\n",
    "mod tests {\n",
    "    use super::*;\n",
    "\n",
    "    #[test]\n",
    "    fn it_works() {\n",
    "        let (quotient, remainder) = long_division(27, 5);\n",
    "        assert_eq!((quotient, remainder), (5, 2));\n",
    "\n",
    "        let (quotient, remainder) = long_division(27, -5);\n",
    "        assert_eq!((quotient, remainder), (-5, 2));\n",
    "\n",
    "        let (quotient, remainder) = long_division(-27, 5);\n",
    "        assert_eq!((quotient, remainder), (-6, 3));\n",
    "\n",
    "        let (quotient, remainder) = long_division(-1687, 11);\n",
    "        assert_eq!((quotient, remainder), (-154, 7));\n",
    "    }\n",
    "}\n",
    "```"
   ]
  },
  {
   "cell_type": "markdown",
   "id": "25e18235",
   "metadata": {},
   "source": [
    "### Exercise 7\n",
    "\n",
    "> Write an algorithm that computes the binary representation of any non-negative integer.\n",
    "\n",
    "\\begin{equation}\n",
    "n = \\sum_{j=0}^{k-1} b_j\\cdot 2^j\n",
    "\\end{equation}"
   ]
  },
  {
   "cell_type": "markdown",
   "id": "34a0b7ec",
   "metadata": {},
   "source": [
    "```rust\n",
    "pub fn  binary_representation(mut number: usize) -> String {\n",
    "    if number == 0 {\n",
    "        return String::from(\"0\");\n",
    "    }\n",
    "\n",
    "    let mut result = String::new();\n",
    "\n",
    "    while number > 0 {\n",
    "        let bit = (number & 1) as u8; // Get the least significant bit\n",
    "        result.insert(0, if bit == 1 { '1' } else { '0' });\n",
    "        number >>= 1; // Shift the number right by 1 to move to the next bit\n",
    "    }\n",
    "\n",
    "    result\n",
    "}\n",
    "\n",
    "#[cfg(test)]\n",
    "mod tests {\n",
    "    use super::*;\n",
    "\n",
    "    #[test]\n",
    "    fn it_works() {\n",
    "        let result = binary_representation(7);\n",
    "        assert_eq!(result, \"111\");\n",
    "\n",
    "        let result = binary_representation(1);\n",
    "        assert_eq!(result, \"1\");\n",
    "\n",
    "        let result = binary_representation(8);\n",
    "        assert_eq!(result, \"1000\");\n",
    "\n",
    "        let result = binary_representation(15);\n",
    "        assert_eq!(result, \"1111\");\n",
    "    }\n",
    "}\n",
    "```"
   ]
  },
  {
   "cell_type": "markdown",
   "id": "2b2f5dc5",
   "metadata": {},
   "source": [
    "### Exercise 8\n",
    "\n",
    "> Extended Euclidean Algorithm\n",
    "\n",
    "> Find integers $s,t\\in\\Z$ such that $gcd(a,b)= s\\cdot a +t\\cdot b$ holds for the following pairs:\n",
    ">\n",
    "> $(a,b) = (45,10)$\n",
    ">\n",
    "> $(a,b)=(13,11)$\n",
    ">\n",
    "> $(a,b)=(13,12)$"
   ]
  },
  {
   "cell_type": "code",
   "execution_count": 6,
   "id": "3132a3c7",
   "metadata": {},
   "outputs": [
    {
     "ename": "SyntaxError",
     "evalue": "invalid syntax (3759134115.py, line 1)",
     "output_type": "error",
     "traceback": [
      "\u001b[0;36m  Cell \u001b[0;32mIn[6], line 1\u001b[0;36m\u001b[0m\n\u001b[0;31m    `> $(a,b) = (Integer(45),Integer(10))$`\u001b[0m\n\u001b[0m    ^\u001b[0m\n\u001b[0;31mSyntaxError\u001b[0m\u001b[0;31m:\u001b[0m invalid syntax\n"
     ]
    }
   ],
   "source": [
    "\n",
    "\"\"\"\n",
    "> $(a,b) = (45,10)$\n",
    "\n",
    "k | Rk  Sk  Tk  Qk\n",
    "-------------------\n",
    "0 |     1   0\n",
    "1 |     0   1\n",
    "2 |\n",
    "3 |\n",
    "4 |\n",
    "5 | \n",
    "\n",
    "\"\"\"\n",
    "\n",
    "\n",
    "\"\"\"\n",
    "> $(a,b) = (13,11)$\n",
    "\n",
    "k | Rk  Sk  Tk  Qk\n",
    "-------------------\n",
    "0 |     1   0\n",
    "1 |     0   1\n",
    "2 |\n",
    "3 |\n",
    "4 |\n",
    "5 | \n",
    "\n",
    "\"\"\"\n",
    "\n",
    "\n",
    "\"\"\"\n",
    "> $(a,b) = (45,10)$\n",
    "\n",
    "k | Rk  Sk  Tk  Qk\n",
    "-------------------\n",
    "0 |     1   0\n",
    "1 |     0   1\n",
    "2 |\n",
    "3 |\n",
    "4 |\n",
    "5 | \n",
    "\n",
    "\"\"\""
   ]
  },
  {
   "cell_type": "code",
   "execution_count": null,
   "id": "3f79f916",
   "metadata": {},
   "outputs": [],
   "source": []
  }
 ],
 "metadata": {
  "kernelspec": {
   "display_name": "SageMath 10.2",
   "language": "sage",
   "name": "sagemath"
  },
  "language_info": {
   "codemirror_mode": {
    "name": "ipython",
    "version": 3
   },
   "file_extension": ".py",
   "mimetype": "text/x-python",
   "name": "python",
   "nbconvert_exporter": "python",
   "pygments_lexer": "ipython3",
   "version": "3.9.19"
  }
 },
 "nbformat": 4,
 "nbformat_minor": 5
}
